{
 "cells": [
  {
   "cell_type": "markdown",
   "id": "0adec327",
   "metadata": {},
   "source": [
    "# D212 Data Mining-II \n",
    "## Performance Assessment\n",
    "## Task-3\n",
    "\n",
    "Submitted by Muhammad Ilyas, Student ID 011143032, for WGU's MSDA program"
   ]
  },
  {
   "cell_type": "markdown",
   "id": "19a69c19-6fe6-4d53-9974-818ce000beb2",
   "metadata": {},
   "source": [
    "## A1: Proposal of Question\n",
    "\n",
    "What are the frequent co-occurring prescriptions or medications among the hospital's patients?\n",
    "\n",
    "This question aims to uncover associations between different prescriptions or medications that patients frequently use together. Understanding these associations can provide insights into potential relationships between medical conditions or treatment approaches, aiding the hospital in tailoring treatments more effectively.\n",
    "\n",
    "## A2: Defined Goal\n",
    "\n",
    " Identify common patterns of prescription combinations among patients to improve treatment strategies and patient care pathways.\n",
    "\n",
    "This goal aligns with the available dataset of patient prescription histories. By identifying frequent co-occurring prescriptions, the hospital aims to develop a better understanding of patient needs, potentially leading to improved treatment plans, reduced readmissions, and more targeted care approaches.\n",
    "\n",
    "These objectives aim to leverage market basket analysis techniques to uncover associations within the prescription data, allowing the hospital to enhance its patient care strategies and optimize cost-effectiveness in the long term. \n",
    "\n",
    "## B1: Explanation of Market Basket\n",
    "\n",
    "Market basket analysis identifies associations or patterns within a dataset to uncover items that are frequently purchased or used together. In the case of patient prescription data, market basket analysis identifies co-occurring prescriptions among patients. It examines which medications tend to be prescribed together and calculates their associations based on the frequency of occurrence. The expected outcomes involve the discovery of prescription combinations that commonly occur within patient histories. For instance, it might reveal that patients prescribed medication A are often also prescribed medication B or C, indicating potential co-treatment patterns or related medical conditions(How to Perform Market Basket Analysis, 2022).\n",
    "\n",
    "## B2: Transaction Example\n",
    "\n",
    "In the context of patient prescriptions, a transaction might be represented as follows:\n",
    "\n",
    "Transaction ID: 001\n",
    "\n",
    "Prescription 1: Amlodipine\n",
    "Prescription 2: Albuterol aerosol\n",
    "Prescription 3: Pantoprazole\n",
    "This represents a transaction where a patient has been prescribed these three medications as part of their treatment.\n",
    "\n",
    "## B3: Assumption of Market Basket Analysis\n",
    "\n",
    "One assumption of market basket analysis is the \"Apriori Principle.\" This principle assumes that if an itemset (a collection of items) is frequent, then all of its subsets must also be frequent. In the context of patient prescriptions, it implies that if a particular combination of medications is frequently prescribed, then the individual medications within that combination are also likely to be frequently prescribed separately or in other combinations. This assumption forms the basis for identifying frequent itemsets and association rules in market basket analysis."
   ]
  },
  {
   "cell_type": "markdown",
   "id": "da02b21a-60ad-41c3-b503-854fe5376c74",
   "metadata": {},
   "source": [
    "### C1: Transforming the Dataset"
   ]
  },
  {
   "cell_type": "code",
   "execution_count": null,
   "id": "de827339-6362-45ff-a4d3-498ee853f6be",
   "metadata": {},
   "outputs": [],
   "source": [
    "import pandas as pd\n",
    "\n",
    "# Read the dataset\n",
    "df = pd.read_csv('medical_market_basket.csv')\n",
    "\n",
    "pd.set_option(\"display.max_columns\", None)\n",
    "df.head()"
   ]
  },
  {
   "cell_type": "code",
   "execution_count": null,
   "id": "237fa049-9a7a-4a71-a13c-c13d5eba8ee7",
   "metadata": {},
   "outputs": [],
   "source": [
    "# As it seems that every alternative row is null:\n",
    "# If first column of prescribed drug is NaN, will delete row:\n",
    "df = df[df['Presc01'].notna()]\n",
    "df.reset_index(drop=True, inplace=True)\n",
    "df.head()"
   ]
  },
  {
   "cell_type": "code",
   "execution_count": null,
   "id": "1dfe8b7f-a7ba-4e30-82a3-827926b01f06",
   "metadata": {},
   "outputs": [],
   "source": [
    "# Convert the data into a list of transactions\n",
    "transactions = []\n",
    "for index, row in df.iterrows():\n",
    "    transaction = [str(row.iloc[i]) for i in range(20) if pd.notnull(row.iloc[i])]\n",
    "    transactions.append(transaction)\n",
    "\n",
    "# Example of the first few transactions\n",
    "print(transactions[:5])  # Displaying the first 5 transactions"
   ]
  },
  {
   "cell_type": "code",
   "execution_count": 4,
   "id": "aa486dee-8e86-43ab-a0e8-f980ad03ce9d",
   "metadata": {},
   "outputs": [
    {
     "name": "stderr",
     "output_type": "stream",
     "text": [
      "C:\\Users\\Ilyas\\AppData\\Local\\Temp\\ipykernel_18176\\3781199613.py:5: FutureWarning: DataFrame.applymap has been deprecated. Use DataFrame.map instead.\n",
      "  encoded_df = encoded_df.applymap(lambda x: 1 if x > 1 else x)\n"
     ]
    }
   ],
   "source": [
    "# Convert the transaction list into a one-hot encoded DataFrame\n",
    "df = pd.DataFrame(transactions)\n",
    "encoded_df = pd.get_dummies(pd.DataFrame(transactions).stack()).groupby(level=0).sum()\n",
    "# Replace values greater than 1 with 1 to ensure a proper binary-encoded DataFrame\n",
    "encoded_df = encoded_df.applymap(lambda x: 1 if x > 1 else x)"
   ]
  },
  {
   "cell_type": "code",
   "execution_count": null,
   "id": "5452fde7-cca5-400d-84e0-e6a44886cf5c",
   "metadata": {},
   "outputs": [],
   "source": [
    "# Convert DataFrame to boolean type\n",
    "cleaned_df = encoded_df.astype(bool)\n",
    "cleaned_df"
   ]
  },
  {
   "cell_type": "code",
   "execution_count": 6,
   "id": "a4841259-d884-486b-acda-af2d506c042e",
   "metadata": {},
   "outputs": [],
   "source": [
    "cleaned_df.to_csv('task3_full_clean.csv', index=False)"
   ]
  },
  {
   "cell_type": "markdown",
   "id": "2195fcea-4572-44af-a0f3-bdc534b4462c",
   "metadata": {},
   "source": [
    "### C2: Code Execution"
   ]
  },
  {
   "cell_type": "code",
   "execution_count": null,
   "id": "ccd6a150-4219-4854-9ac6-1e7fe4828c3d",
   "metadata": {},
   "outputs": [],
   "source": [
    "from mlxtend.frequent_patterns import apriori\n",
    "from mlxtend.frequent_patterns import association_rules\n",
    "\n",
    "# Generate frequent item sets\n",
    "frequent_itemsets = apriori(cleaned_df, min_support=0.01, use_colnames=True)\n",
    "# Display frequent itemsets\n",
    "print(frequent_itemsets)"
   ]
  },
  {
   "cell_type": "code",
   "execution_count": 8,
   "id": "0f5ce5bc-7990-4479-9e7f-a9e5a538cde5",
   "metadata": {},
   "outputs": [],
   "source": [
    "# Generate association rules\n",
    "rules = association_rules(frequent_itemsets, metric=\"lift\", min_threshold=1.2)"
   ]
  },
  {
   "cell_type": "markdown",
   "id": "f2e21caf-cf55-4008-8ffc-113b0a032fb8",
   "metadata": {},
   "source": [
    "### C3: Association Rules Table"
   ]
  },
  {
   "cell_type": "code",
   "execution_count": null,
   "id": "c898eb7a-5c7c-44ae-899e-5399f7cd5f9e",
   "metadata": {},
   "outputs": [],
   "source": [
    "# Display the association rules\n",
    "rules"
   ]
  },
  {
   "cell_type": "markdown",
   "id": "da8150b7-4df4-4100-81b6-c974129ba9a9",
   "metadata": {},
   "source": [
    "### C4: Top Three Rules"
   ]
  },
  {
   "cell_type": "code",
   "execution_count": 10,
   "id": "fe0cf0b5-6d8f-46fc-96c3-111054e73eea",
   "metadata": {},
   "outputs": [
    {
     "data": {
      "text/html": [
       "<div>\n",
       "<style scoped>\n",
       "    .dataframe tbody tr th:only-of-type {\n",
       "        vertical-align: middle;\n",
       "    }\n",
       "\n",
       "    .dataframe tbody tr th {\n",
       "        vertical-align: top;\n",
       "    }\n",
       "\n",
       "    .dataframe thead th {\n",
       "        text-align: right;\n",
       "    }\n",
       "</style>\n",
       "<table border=\"1\" class=\"dataframe\">\n",
       "  <thead>\n",
       "    <tr style=\"text-align: right;\">\n",
       "      <th></th>\n",
       "      <th>antecedents</th>\n",
       "      <th>consequents</th>\n",
       "      <th>antecedent support</th>\n",
       "      <th>consequent support</th>\n",
       "      <th>support</th>\n",
       "      <th>confidence</th>\n",
       "      <th>lift</th>\n",
       "      <th>leverage</th>\n",
       "      <th>conviction</th>\n",
       "      <th>zhangs_metric</th>\n",
       "    </tr>\n",
       "  </thead>\n",
       "  <tbody>\n",
       "    <tr>\n",
       "      <th>243</th>\n",
       "      <td>(methylprednisone)</td>\n",
       "      <td>(lisinopril)</td>\n",
       "      <td>0.049460</td>\n",
       "      <td>0.098254</td>\n",
       "      <td>0.015998</td>\n",
       "      <td>0.323450</td>\n",
       "      <td>3.291994</td>\n",
       "      <td>0.011138</td>\n",
       "      <td>1.332860</td>\n",
       "      <td>0.732460</td>\n",
       "    </tr>\n",
       "    <tr>\n",
       "      <th>242</th>\n",
       "      <td>(lisinopril)</td>\n",
       "      <td>(methylprednisone)</td>\n",
       "      <td>0.098254</td>\n",
       "      <td>0.049460</td>\n",
       "      <td>0.015998</td>\n",
       "      <td>0.162822</td>\n",
       "      <td>3.291994</td>\n",
       "      <td>0.011138</td>\n",
       "      <td>1.135410</td>\n",
       "      <td>0.772094</td>\n",
       "    </tr>\n",
       "    <tr>\n",
       "      <th>322</th>\n",
       "      <td>(lisinopril)</td>\n",
       "      <td>(abilify, carvedilol)</td>\n",
       "      <td>0.098254</td>\n",
       "      <td>0.059725</td>\n",
       "      <td>0.017064</td>\n",
       "      <td>0.173677</td>\n",
       "      <td>2.907928</td>\n",
       "      <td>0.011196</td>\n",
       "      <td>1.137902</td>\n",
       "      <td>0.727602</td>\n",
       "    </tr>\n",
       "  </tbody>\n",
       "</table>\n",
       "</div>"
      ],
      "text/plain": [
       "            antecedents            consequents  antecedent support  \\\n",
       "243  (methylprednisone)           (lisinopril)            0.049460   \n",
       "242        (lisinopril)     (methylprednisone)            0.098254   \n",
       "322        (lisinopril)  (abilify, carvedilol)            0.098254   \n",
       "\n",
       "     consequent support   support  confidence      lift  leverage  conviction  \\\n",
       "243            0.098254  0.015998    0.323450  3.291994  0.011138    1.332860   \n",
       "242            0.049460  0.015998    0.162822  3.291994  0.011138    1.135410   \n",
       "322            0.059725  0.017064    0.173677  2.907928  0.011196    1.137902   \n",
       "\n",
       "     zhangs_metric  \n",
       "243       0.732460  \n",
       "242       0.772094  \n",
       "322       0.727602  "
      ]
     },
     "execution_count": 10,
     "metadata": {},
     "output_type": "execute_result"
    }
   ],
   "source": [
    "top_3_rules = rules.sort_values(by='lift', ascending=False).head(3)\n",
    "top_3_rules"
   ]
  },
  {
   "cell_type": "markdown",
   "id": "52ad6453-6c01-4e90-8441-471d58e918c5",
   "metadata": {},
   "source": [
    "### D1: Significance of Support, Lift and Confidence Summary\n",
    "\n",
    "#### Support: \n",
    "Indicates how frequently the antecedent and consequent items appear together. Higher support values signify stronger associations. In top rules, the support ranges between approximately 0.015998 to 0.017064, indicating these associations are relatively common in the dataset.\n",
    "\n",
    "#### Lift: \n",
    "Represents the strength of association between antecedent and consequent beyond what would be expected by chance. A lift greater than 1 implies a positive relationship between the items. The lift values in the top rules are notably high, ranging from approximately 2.9 to over 3.29, suggesting strong associations.\n",
    "\n",
    "#### Confidence: \n",
    "Reflects the probability of the consequent occurring given the antecedent. Higher confidence values indicate a higher likelihood of the consequent given the antecedent. Your top rules exhibit confidence ranging from approximately 0.162822 to 0.323450, indicating moderately strong predictive power."
   ]
  },
  {
   "cell_type": "markdown",
   "id": "fd984460-a690-4f36-9968-d3bc5f8516b3",
   "metadata": {},
   "source": [
    "### D2: Practical Significance of Findings\n",
    "\n",
    "#### Association Strength: \n",
    "The high lift values suggest robust associations between certain medications. For instance, the association between methylprednisone and lisinopril is notably strong, indicating that patients prescribed one medication are significantly more likely to be prescribed the other.\n",
    "\n",
    "#### Treatment Insights: \n",
    "These associations can provide valuable insights into potential treatment pathways. For example, if patients are frequently prescribed both methylprednisone and lisinopril, it might suggest a common condition or an effective combined treatment strategy."
   ]
  },
  {
   "cell_type": "markdown",
   "id": "e515fffa-879b-4fef-b765-483ac87ff0d8",
   "metadata": {},
   "source": [
    "### D3: Course of Action\n",
    "\n",
    "#### Treatment Bundling: \n",
    "Consider creating treatment bundles or standardized care pathways that incorporate these frequently associated medications. For instance, for patients prescribed methylprednisone, closely monitor and consider the potential need for lisinopril based on the association strength.\n",
    "\n",
    "#### Physician Awareness: \n",
    "Educate physicians about these strong medication associations to assist in making more informed prescription decisions. This awareness can help in tailoring treatments effectively.\n",
    "\n",
    "#### Patient Care Optimization: \n",
    "Tailor patient care plans based on the identified associations to provide more personalized and potentially more effective treatment strategies.\n",
    "\n",
    "These actions based on the identified associations can contribute to optimized patient care, potentially reducing readmissions, improving outcomes, and enhancing cost-effectiveness for the hospital."
   ]
  },
  {
   "cell_type": "markdown",
   "id": "e56ae2f5-57b0-4a27-91cb-69a9b4cf2e15",
   "metadata": {},
   "source": [
    "### E & E1: Panopto Video\n",
    "The video is recorded and being uploaed in directed folder. "
   ]
  },
  {
   "cell_type": "markdown",
   "id": "3f14bdd9-797a-48d6-9e2c-7f983c0632ba",
   "metadata": {},
   "source": [
    "### G: Sources\n",
    "How to Perform Market Basket Analysis. (2022, November 4). 365 Data Science. https://365datascience.com/tutorials/python-tutorials/market-basket-analysis/"
   ]
  },
  {
   "cell_type": "markdown",
   "id": "d61186b9-cd1a-4282-bfe2-31e1ba64af23",
   "metadata": {},
   "source": [
    "### F: Sources for Third Party Code\n",
    "No third party code was used (only Data Camp)"
   ]
  }
 ],
 "metadata": {
  "kernelspec": {
   "display_name": "Python 3 (ipykernel)",
   "language": "python",
   "name": "python3"
  },
  "language_info": {
   "codemirror_mode": {
    "name": "ipython",
    "version": 3
   },
   "file_extension": ".py",
   "mimetype": "text/x-python",
   "name": "python",
   "nbconvert_exporter": "python",
   "pygments_lexer": "ipython3",
   "version": "3.11.2"
  }
 },
 "nbformat": 4,
 "nbformat_minor": 5
}
